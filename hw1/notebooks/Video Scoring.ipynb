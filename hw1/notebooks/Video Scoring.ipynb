{
 "cells": [
  {
   "cell_type": "code",
   "execution_count": 42,
   "id": "596f8f86-b5b4-40de-9d51-a80f33772a30",
   "metadata": {},
   "outputs": [],
   "source": [
    "from pyspark.sql.functions import pandas_udf\n",
    "from pyspark.sql.types import StringType, IntegerType, DoubleType\n",
    "import pandas as pd\n",
    "\n",
    "from pyspark.sql.functions import *\n",
    "from pyspark.sql.types import *\n",
    "from pyspark.sql import SparkSession\n",
    "\n",
    "from pyspark.sql.window import Window\n",
    "from pyspark.sql.functions import col, row_number, sum\n",
    "\n",
    "from pyspark.sql.column import Column\n",
    "from pyspark.sql.column import _to_java_column\n",
    "from pyspark.sql.column import _to_seq\n",
    "\n",
    "import timeit"
   ]
  },
  {
   "cell_type": "code",
   "execution_count": 1,
   "id": "4b94b2e0-3796-411b-ad82-1b56e7f89e1f",
   "metadata": {},
   "outputs": [],
   "source": [
    "\n",
    "\n",
    "\n",
    "spark = SparkSession.builder.master(\"local\") \\\n",
    "    .config('spark.sql.autoBroadcastJoinThreshold', 0) \\\n",
    "    .config('spark.sql.adaptive.enabled', 'false') \\\n",
    "    .getOrCreate()"
   ]
  },
  {
   "cell_type": "code",
   "execution_count": 2,
   "id": "1c2a19f1-09d4-433b-bb14-495e1f69bf43",
   "metadata": {
    "scrolled": true
   },
   "outputs": [
    {
     "name": "stdout",
     "output_type": "stream",
     "text": [
      "+-----------+--------------------+--------------------+-----------+--------------------+-------+------+--------+-------------+--------------------+-----+\n",
      "|   video_id|               title|       channel_title|category_id|                tags|  views| likes|dislikes|comment_total|      thumbnail_link| date|\n",
      "+-----------+--------------------+--------------------+-----------+--------------------+-------+------+--------+-------------+--------------------+-----+\n",
      "|XpVt6Z1Gjjo|1 YEAR OF VLOGGIN...|    Logan Paul Vlogs|         24|logan paul vlog|l...|4394029|320053|    5931|        46245|https://i.ytimg.c...|13.09|\n",
      "|K4wEI5zhHB0|iPhone X — Introd...|               Apple|         28|Apple|iPhone 10|i...|7860119|185853|   26679|            0|https://i.ytimg.c...|13.09|\n",
      "|cLdxuaxaQwc|         My Response|           PewDiePie|         22|              [none]|5845909|576597|   39774|       170708|https://i.ytimg.c...|13.09|\n",
      "|WYYvHb03Eog|Apple iPhone X fi...|           The Verge|         28|apple iphone x ha...|2642103| 24975|    4542|        12829|https://i.ytimg.c...|13.09|\n",
      "|sjlHnJvXdQs|   iPhone X (parody)|          jacksfilms|         23|jacksfilms|parody...|1168130| 96666|     568|         6666|https://i.ytimg.c...|13.09|\n",
      "|cMKX2tE5Luk|The Disaster Arti...|                 A24|          1|a24|a24 films|a24...|1311445| 34507|     544|         3040|https://i.ytimg.c...|13.09|\n",
      "|8wNr-NQImFg|The Check In: HUD...|Late Night with S...|         23|Late night|Seth M...| 666169|  9985|     297|         1071|https://i.ytimg.c...|13.09|\n",
      "|_HTXMhKWqnA|iPhone X Impressi...|    Marques Brownlee|         28|iPhone X|iphone x...|1728614| 74062|    2180|        15297|https://i.ytimg.c...|13.09|\n",
      "|_ANP3HR1jsM|ATTACKED BY A POL...|    RomanAtwoodVlogs|         22|Roman Atwood|Roma...|1338533| 69687|     678|         5643|https://i.ytimg.c...|13.09|\n",
      "|zgLtEob6X-Q|Honest Trailers -...|      Screen Junkies|          1|screenjunkies|scr...|1056891| 29943|     878|         4046|https://i.ytimg.c...|13.09|\n",
      "|Ayb_2qbZHm4| Honest College Tour|        CollegeHumor|         23|Collegehumor|CH o...| 859289| 34485|     726|         1914|https://i.ytimg.c...|13.09|\n",
      "|CsdzflTXBVQ|Best Floyd Maywea...|     Awkward Puppets|         23|best floyd maywea...| 452477| 28050|     405|         2745|https://i.ytimg.c...|13.09|\n",
      "|l864IBj7cgw|Jennifer Lawrence...|The Tonight Show ...|         23|The Tonight Show|...| 258781|  8085|     303|          726|https://i.ytimg.c...|13.09|\n",
      "|4MkC65emkG4|Hand In Hand A Be...|                 MTV|         24|mtv|video|online|...| 274358|  9215|     477|          838|https://i.ytimg.c...|13.09|\n",
      "|vu_9muoxT50|Colin Cloud: Mind...|America's Got Talent|         24|America's Got Tal...| 473691| 14740|     415|         1696|https://i.ytimg.c...|13.09|\n",
      "|1L7JFN7tQLs|iPhone X Hands on...|   Jonathan Morrison|         28|Apple|iPhone X|iP...| 514972| 18936|     641|         3817|https://i.ytimg.c...|13.09|\n",
      "|ZQK1F0wz6z4|What Do You Want ...| Wong Fu Productions|         24|panda|what should...| 282858| 14870|     300|         1398|https://i.ytimg.c...|13.09|\n",
      "|T_PuZBdT2iM|getting into a co...|               ProZD|          1|skit|korean|langu...|1582683| 65749|    1531|         3598|https://i.ytimg.c...|13.09|\n",
      "|w8fAellnPns|Juicy Chicken Bre...| You Suck At Cooking|         26|how to|cooking|re...| 479951| 23945|     640|         1941|https://i.ytimg.c...|13.09|\n",
      "|UCrBICYM0yM|Downsizing (2017)...|  Paramount Pictures|          1|downsizing|previe...|2693468|  7941|     302|         1432|https://i.ytimg.c...|13.09|\n",
      "+-----------+--------------------+--------------------+-----------+--------------------+-------+------+--------+-------------+--------------------+-----+\n",
      "only showing top 20 rows\n",
      "\n"
     ]
    }
   ],
   "source": [
    "videos = spark.read.option('header', 'true').option(\"inferSchema\", \"true\").csv('../datasets/USvideos.csv')\n",
    "videos.show()"
   ]
  },
  {
   "cell_type": "code",
   "execution_count": 3,
   "id": "805005cc-0c92-45e3-ab79-44a348f9c2d3",
   "metadata": {},
   "outputs": [
    {
     "name": "stdout",
     "output_type": "stream",
     "text": [
      "+-----------+--------------------+-----+-------+\n",
      "|   video_id|        comment_text|likes|replies|\n",
      "+-----------+--------------------+-----+-------+\n",
      "|XpVt6Z1Gjjo|Logan Paul it's y...|    4|      0|\n",
      "|XpVt6Z1Gjjo|I've been followi...|    3|      0|\n",
      "|XpVt6Z1Gjjo|Say hi to Kong an...|    3|      0|\n",
      "|XpVt6Z1Gjjo| MY FAN . attendance|    3|      0|\n",
      "|XpVt6Z1Gjjo|         trending 😉|    3|      0|\n",
      "|XpVt6Z1Gjjo|#1 on trending AY...|    3|      0|\n",
      "|XpVt6Z1Gjjo|The end though 😭...|    4|      0|\n",
      "|XpVt6Z1Gjjo|#1 trending!!!!!!!!!|    3|      0|\n",
      "|XpVt6Z1Gjjo|Happy one year vl...|    3|      0|\n",
      "|XpVt6Z1Gjjo|You and your shit...|    0|      0|\n",
      "|XpVt6Z1Gjjo|There should be a...|    0|      0|\n",
      "|XpVt6Z1Gjjo|Dear Logan, I rea...|    0|      0|\n",
      "|XpVt6Z1Gjjo|Honestly Evan is ...|    0|      0|\n",
      "|XpVt6Z1Gjjo|Casey is still be...|    0|      0|\n",
      "|XpVt6Z1Gjjo|aw geez rick this...|    0|      0|\n",
      "|XpVt6Z1Gjjo|He happy cause he...|    0|      0|\n",
      "|XpVt6Z1Gjjo|Ayyyyoooo Logang ...|    1|      0|\n",
      "|XpVt6Z1Gjjo|Bro y didnt u giv...|    0|      0|\n",
      "|XpVt6Z1Gjjo|It's been fun wat...|    3|      0|\n",
      "|XpVt6Z1Gjjo|Made a lot of peo...|    0|      0|\n",
      "+-----------+--------------------+-----+-------+\n",
      "only showing top 20 rows\n",
      "\n"
     ]
    }
   ],
   "source": [
    "comments_schema = StructType([ \\\n",
    "    StructField(\"video_id\", StringType(), True), \\\n",
    "    StructField(\"comment_text\", StringType(), True), \\\n",
    "    StructField(\"likes\", IntegerType(), True), \\\n",
    "    StructField(\"replies\", IntegerType(), True)])\n",
    "comments = spark.read.option('header', 'true').option(\"mode\", \"DROPMALFORMED\").schema(comments_schema).csv('../datasets/UScomments.csv')\n",
    "comments.show()"
   ]
  },
  {
   "cell_type": "raw",
   "id": "7818cc21-e03d-4339-b252-65e8fb05616c",
   "metadata": {},
   "source": [
    "# Задание 1."
   ]
  },
  {
   "cell_type": "code",
   "execution_count": 4,
   "id": "5e546775-0f00-4e2e-b43d-ac315015c745",
   "metadata": {},
   "outputs": [
    {
     "name": "stdout",
     "output_type": "stream",
     "text": [
      "CPU times: user 8.42 ms, sys: 8.38 ms, total: 16.8 ms\n",
      "Wall time: 10.7 s\n"
     ]
    }
   ],
   "source": [
    "%%time\n",
    "videos.write \\\n",
    "    .bucketBy(16, 'video_id') \\\n",
    "    .saveAsTable('videos_bucketed4', format='csv', mode='overwrite')\n",
    "    \n",
    "comments.write \\\n",
    "    .bucketBy(16, 'video_id') \\\n",
    "    .saveAsTable('comments_bucketed4', format='csv', mode='overwrite')\n"
   ]
  },
  {
   "cell_type": "code",
   "execution_count": null,
   "id": "c850c99e-be55-493c-ac03-c20f29941a6c",
   "metadata": {},
   "outputs": [],
   "source": [
    "%%time\n",
    "videos \\\n",
    "    .join(comments, videos['video_id'] == comments['video_id']) \\\n",
    "    .count()"
   ]
  },
  {
   "cell_type": "code",
   "execution_count": 5,
   "id": "d107ff8c-98f8-40c1-a9fb-ae4043d02915",
   "metadata": {},
   "outputs": [
    {
     "name": "stdout",
     "output_type": "stream",
     "text": [
      "CPU times: user 2.95 ms, sys: 0 ns, total: 2.95 ms\n",
      "Wall time: 109 ms\n"
     ]
    }
   ],
   "source": [
    "%%time\n",
    "videos_bucketed = spark.table('videos_bucketed4')\n",
    "comments_bucketed = spark.table('comments_bucketed4')"
   ]
  },
  {
   "cell_type": "code",
   "execution_count": 6,
   "id": "e980d706-477c-4cd0-be77-33dc8c1cab0e",
   "metadata": {},
   "outputs": [
    {
     "name": "stdout",
     "output_type": "stream",
     "text": [
      "+-----------+---------+------------+\n",
      "|   video_id|likes_cnt|comments_cnt|\n",
      "+-----------+---------+------------+\n",
      "|zgLtEob6X-Q|       48|         700|\n",
      "|B7YaMkCl3XA|       66|         299|\n",
      "|6vGg-jJl30A|       13|         200|\n",
      "|bp6uJJJMaLs|      645|         200|\n",
      "|Pp19TkIU_fw|     2339|         173|\n",
      "|u6iVspBWzZU|       15|         200|\n",
      "|wGQtrwey-TI|      837|         200|\n",
      "|ykvX-E1nuag|        2|         200|\n",
      "|AR4UgRJOUQY|       28|         100|\n",
      "|Zy6vBxqlapw|       58|         100|\n",
      "|Lv5DFKceFac|       37|         100|\n",
      "|9YyB6sQ4iwA|      369|         300|\n",
      "|IYvEhgYy35I|      171|         600|\n",
      "|JZDM1bLn7sM|       10|         200|\n",
      "|tBN9kLaS-uw|       73|         700|\n",
      "|bvim4rsNHkQ|       78|         700|\n",
      "|zKriLekFPwg|      463|         700|\n",
      "|4F2KWDQQMhY|       63|         500|\n",
      "|z5eG8fD-hQw|       23|         598|\n",
      "|FfRGxN2zeWU|      474|         500|\n",
      "+-----------+---------+------------+\n",
      "only showing top 20 rows\n",
      "\n",
      "CPU times: user 12.1 ms, sys: 2.93 ms, total: 15.1 ms\n",
      "Wall time: 915 ms\n"
     ]
    }
   ],
   "source": [
    "%%time\n",
    "comments_agg = comments_bucketed.select(col('video_id'),col('likes')) \\\n",
    "    .groupBy(col('video_id')) \\\n",
    "    .agg( sum(col('likes')).alias('likes_cnt'), count(col('video_id')).alias('comments_cnt'))\n",
    "comments_agg.show()"
   ]
  },
  {
   "cell_type": "code",
   "execution_count": null,
   "id": "19849b97-5767-4e69-a76d-0b003bfa0df6",
   "metadata": {},
   "outputs": [],
   "source": [
    "# Для оптимизации выбрано бакетирование, так как почти все записи из USvideos.csv присутствуют в аггрегированном датасете по комментариям comments_agg на основе  UScomments.csv (7728 из 7998), а значит фильтр Блума не логично применять, \n",
    "# так как он больше ориентирован на оптимизацию при запросе несуществующих значений из множества, а у нас слишком маленький процент таких случаев.\n",
    "# \"Солить\" не имеет смысла, так как соединение будет практически 1 к 1, т.е. без значительного перекоса в партициях, когда такая оптимизация имеет смысл.\n",
    "# Broadcast по условиям задачи нельзя применять, поэтому остается бакетирование."
   ]
  },
  {
   "cell_type": "code",
   "execution_count": 24,
   "id": "9a993b10-b971-4776-908e-3c50f16164c0",
   "metadata": {},
   "outputs": [],
   "source": [
    "@pandas_udf(DoubleType())\n",
    "def score_calculation( views: pd.Series , likes: pd.Series , dislikes: pd.Series , likes_cnt: pd.Series , comments_cnt: pd.Series ) ->  pd.Series :\n",
    "    return (views + 2 * (likes - dislikes) + 3 * likes_cnt + 4 * comments_cnt) "
   ]
  },
  {
   "cell_type": "code",
   "execution_count": 26,
   "id": "4d7964cf-68ae-4256-9650-a26dbdb4fbb8",
   "metadata": {},
   "outputs": [
    {
     "name": "stdout",
     "output_type": "stream",
     "text": [
      "+-----------+--------------------+------------------+-----------+--------------------+-------+-----+--------+-------+\n",
      "|   video_id|               title|     channel_title|category_id|                tags|  views|likes|dislikes|  score|\n",
      "+-----------+--------------------+------------------+-----------+--------------------+-------+-----+--------+-------+\n",
      "|6vGg-jJl30A|THIS MADE MY DAD ...|       Nile Wilson|         17|nile wilson|nile ...| 185541|12179|     115| 210508|\n",
      "|6vGg-jJl30A|THIS MADE MY DAD ...|       Nile Wilson|         17|nile wilson|nile ...| 214484|12908|     125| 240889|\n",
      "|9YyB6sQ4iwA|iPhone X and iPho...|          iJustine|         28|ijustine|iphone x...| 761705|32608|    1562| 826104|\n",
      "|AR4UgRJOUQY|What Does Your Se...|       AsapSCIENCE|         28|Search History|De...|1244953|29748|    2639|1299655|\n",
      "|B7YaMkCl3XA|Hurricane Irma de...|Al Jazeera English|         25|5573051142001|ame...| 382525| 1521|     270| 386421|\n",
      "|B7YaMkCl3XA|Hurricane Irma de...|Al Jazeera English|         25|5573051142001|ame...| 396448| 1557|     292| 400372|\n",
      "|IYvEhgYy35I|The xx - On Hold ...|            The xx|         10|the xx|music|on h...| 111776| 4857|      68| 124267|\n",
      "|JZDM1bLn7sM|WHAT I WORE: NEW ...|      Amber Scholl|         26|lookobook|new yor...| 213321|12990|     138| 239855|\n",
      "|Lv5DFKceFac|Thomas Rhett - Sw...|   ThomasRhettVEVO|         10|Thomas|Rhett|Swee...| 376381| 8909|     170| 394370|\n",
      "|Pp19TkIU_fw|Life of Kylie Rec...|  E! Entertainment|         24|Kylie Jenner|Real...| 188162| 1990|     266| 199319|\n",
      "|Pp19TkIU_fw|Life of Kylie Rec...|  E! Entertainment|         24|Kylie Jenner|Real...| 200970| 2034|     271| 212205|\n",
      "|Zy6vBxqlapw|Kelly Clarkson - ...|    Kelly Clarkson|         10|Kelly Clarkson|Lo...|3027926|76505|    2880|3175750|\n",
      "|bp6uJJJMaLs|Things you need t...|   Jenny Nicholson|          1|              [none]|  39338| 2377|     103|  46621|\n",
      "|bp6uJJJMaLs|Things you need t...|   Jenny Nicholson|          1|              [none]|  45843| 2548|     115|  53444|\n",
      "|u6iVspBWzZU|what is derealisa...|     doddlevloggle|         24|depersonalisation...| 157437|19869|      78| 197864|\n",
      "|u6iVspBWzZU|what is derealisa...|     doddlevloggle|         24|depersonalisation...| 168561|20645|      81| 210534|\n",
      "|wGQtrwey-TI|SALTED EGG CRAB! ...| Strictly Dumpling|         19|hawker center|haw...| 622951|13260|     493| 651796|\n",
      "|wGQtrwey-TI|SALTED EGG CRAB! ...| Strictly Dumpling|         19|hawker center|haw...| 645414|13560|     495| 674855|\n",
      "|ykvX-E1nuag|How to Win Australia|      vlogbrothers|         22|australia|hank green| 173773| 9188|     166| 192623|\n",
      "|zgLtEob6X-Q|Honest Trailers -...|    Screen Junkies|          1|screenjunkies|scr...|1056891|29943|     878|1117965|\n",
      "+-----------+--------------------+------------------+-----------+--------------------+-------+-----+--------+-------+\n",
      "only showing top 20 rows\n",
      "\n",
      "CPU times: user 22.3 ms, sys: 14.4 ms, total: 36.7 ms\n",
      "Wall time: 1.75 s\n"
     ]
    }
   ],
   "source": [
    "%%time        \n",
    "scored_videos = videos_bucketed \\\n",
    "    .join(comments_agg, videos_bucketed['video_id'] == comments_agg['video_id'],'left') \\\n",
    "    .withColumn('score',round(score_calculation(\"views\", \"likes\", \"dislikes\", \"likes_cnt\", \"comments_cnt\"), 0).cast(IntegerType())) \\\n",
    "    .select(videos_bucketed['video_id'],'title','channel_title','category_id','tags','views','likes','dislikes','score') \\\n",
    "\n",
    "scored_videos.show()    "
   ]
  },
  {
   "cell_type": "code",
   "execution_count": null,
   "id": "783898b6-3520-49bc-83fc-f2cc33f8f360",
   "metadata": {},
   "outputs": [],
   "source": [
    "scored_videos.select('category_id').distinct().count()"
   ]
  },
  {
   "cell_type": "code",
   "execution_count": null,
   "id": "a0bff1bd-c40a-4090-b276-bcc4ec90294a",
   "metadata": {},
   "outputs": [],
   "source": [
    "# Задание 2."
   ]
  },
  {
   "cell_type": "code",
   "execution_count": 8,
   "id": "87272117-e573-4203-a0d3-0954897b4be8",
   "metadata": {
    "scrolled": true
   },
   "outputs": [],
   "source": [
    "categories = (spark.read.option(\"multiline\",\"true\") \n",
    "    .json(\"../datasets/US_category_id.json\") \n",
    "    .select(explode(\"items\"))\n",
    "    .select(col(\"col.id\").alias(\"id\"),col(\"col.snippet.title\").alias(\"category\")))\n",
    "categories.show()"
   ]
  },
  {
   "cell_type": "code",
   "execution_count": 40,
   "id": "b85e10e4-5f29-4604-b595-6841b9f20c5a",
   "metadata": {},
   "outputs": [
    {
     "name": "stdout",
     "output_type": "stream",
     "text": [
      "+-----------+-----+\n",
      "|category_id|count|\n",
      "+-----------+-----+\n",
      "|         28|  512|\n",
      "|         27|  334|\n",
      "|         26|  870|\n",
      "|         22|  882|\n",
      "|          1|  378|\n",
      "|         20|   82|\n",
      "|         19|   48|\n",
      "|         15|  116|\n",
      "|         43|    2|\n",
      "|         17|  410|\n",
      "|         23|  755|\n",
      "|         10| 1252|\n",
      "|         25|  626|\n",
      "|         24| 1601|\n",
      "|         29|   14|\n",
      "|          2|  116|\n",
      "+-----------+-----+\n",
      "\n"
     ]
    }
   ],
   "source": [
    "scored_videos.groupBy('category_id').count().show()"
   ]
  },
  {
   "cell_type": "code",
   "execution_count": null,
   "id": "e472f83d-86b7-415d-a949-0c005844781f",
   "metadata": {},
   "outputs": [],
   "source": [
    "# Большой перекос в кол-ве строк при соединении scored_videos по category_id с category, чтобы не допустить перекоса в партициях, будем \"подсаливать\" оба датафрейма."
   ]
  },
  {
   "cell_type": "code",
   "execution_count": 31,
   "id": "5565d47d-6496-4053-844e-8cb6bd3647a1",
   "metadata": {},
   "outputs": [
    {
     "name": "stdout",
     "output_type": "stream",
     "text": [
      "+---+----------------+----+\n",
      "| id|        category|salt|\n",
      "+---+----------------+----+\n",
      "|  1|Film & Animation|   0|\n",
      "|  1|Film & Animation|   1|\n",
      "|  1|Film & Animation|   2|\n",
      "|  1|Film & Animation|   3|\n",
      "|  1|Film & Animation|   4|\n",
      "|  1|Film & Animation|   5|\n",
      "|  1|Film & Animation|   6|\n",
      "|  1|Film & Animation|   7|\n",
      "|  1|Film & Animation|   8|\n",
      "|  1|Film & Animation|   9|\n",
      "|  2|Autos & Vehicles|   0|\n",
      "|  2|Autos & Vehicles|   1|\n",
      "|  2|Autos & Vehicles|   2|\n",
      "|  2|Autos & Vehicles|   3|\n",
      "|  2|Autos & Vehicles|   4|\n",
      "|  2|Autos & Vehicles|   5|\n",
      "|  2|Autos & Vehicles|   6|\n",
      "|  2|Autos & Vehicles|   7|\n",
      "|  2|Autos & Vehicles|   8|\n",
      "|  2|Autos & Vehicles|   9|\n",
      "+---+----------------+----+\n",
      "only showing top 20 rows\n",
      "\n"
     ]
    }
   ],
   "source": [
    "categories_salt= categories \\\n",
    "            .select(col('id'), col('category'), explode(array([lit(i) for i in range(10)])).alias('salt'))\n",
    "categories_salt.show()"
   ]
  },
  {
   "cell_type": "code",
   "execution_count": 32,
   "id": "e04224be-e9bb-4357-9c5b-be3be2193048",
   "metadata": {},
   "outputs": [
    {
     "name": "stdout",
     "output_type": "stream",
     "text": [
      "+-----------+--------------------+--------------------+-----------+--------------------+-------+-----+--------+-------+----+\n",
      "|   video_id|               title|       channel_title|category_id|                tags|  views|likes|dislikes|  score|salt|\n",
      "+-----------+--------------------+--------------------+-----------+--------------------+-------+-----+--------+-------+----+\n",
      "|--JinobXWPk|DANGEROUS Jungle ...|    Brave Wilderness|         15|adventure|adventu...|1319945|38949|     533|1397234|   2|\n",
      "|-LoSw4o2zDQ|How to Make Pushe...|    kawaiisweetworld|         26|recipe|recipes|ho...|  47204| 3942|      24|  57941|   7|\n",
      "|-LoSw4o2zDQ|How to Make Pushe...|    kawaiisweetworld|         26|recipe|recipes|ho...|  56094| 4430|      27|  67801|   7|\n",
      "|-LoSw4o2zDQ|How to Make Pushe...|    kawaiisweetworld|         26|recipe|recipes|ho...|  62600| 4715|      29|  74873|   6|\n",
      "|0lDRz8qmXpE|Standing Up For Y...|        CollegeHumor|         23|Collegehumor|CH o...| 261158|17223|    1506| 294098|   3|\n",
      "|0lDRz8qmXpE|Standing Up For Y...|        CollegeHumor|         23|Collegehumor|CH o...| 405090|22331|    2021| 447216|   3|\n",
      "|0lDRz8qmXpE|Standing Up For Y...|        CollegeHumor|         23|Collegehumor|CH o...| 467127|24509|    2302| 513047|   4|\n",
      "|1KCZHHMZVGQ|Adam Ruins Everyt...|               truTV|         24|“truTv|Shows”|”tr...| 161081| 2920|     168| 169203|   2|\n",
      "|1KCZHHMZVGQ|Adam Ruins Everyt...|               truTV|         24|“truTv|Shows”|”tr...| 211267| 3426|     213| 220311|   2|\n",
      "|1KCZHHMZVGQ|Adam Ruins Everyt...|               truTV|         24|“truTv|Shows”|”tr...| 225260| 3562|     218| 234566|   8|\n",
      "|1KCZHHMZVGQ|Adam Ruins Everyt...|               truTV|         24|“truTv|Shows”|”tr...| 236859| 3683|     220| 246403|   9|\n",
      "|1KCZHHMZVGQ|Adam Ruins Everyt...|               truTV|         24|“truTv|Shows”|”tr...| 245620| 3772|     223| 255336|  10|\n",
      "|1eQXF7JbbGE|Vanessa​ and​ Mak...|Dancing With The ...|         24|abc|dancing|with|...|   9761|  179|       7|  10619|   6|\n",
      "|2HcqS508lIo|The US Military's...|    Real Engineering|         28|railgun|military|...| 284649|10852|     278| 311536|   5|\n",
      "|2HcqS508lIo|The US Military's...|    Real Engineering|         28|railgun|military|...| 547268|15443|     469| 582955|   8|\n",
      "|2HcqS508lIo|The US Military's...|    Real Engineering|         28|railgun|military|...| 655030|17414|     540| 694517|   0|\n",
      "|2HcqS508lIo|The US Military's...|    Real Engineering|         28|railgun|military|...| 720657|18441|     578| 762122|   3|\n",
      "|2HcqS508lIo|The US Military's...|    Real Engineering|         28|railgun|military|...| 735223|18678|     582| 777154|   3|\n",
      "|2HcqS508lIo|The US Military's...|    Real Engineering|         28|railgun|military|...| 740821|18808|     585| 783006|   2|\n",
      "|2Hz4sDjXPQY|Kingsman: The Gol...|    20th Century Fox|          1|Puppy|Spy Movies|...|  48720|  713|       9|  62352|   5|\n",
      "+-----------+--------------------+--------------------+-----------+--------------------+-------+-----+--------+-------+----+\n",
      "only showing top 20 rows\n",
      "\n"
     ]
    }
   ],
   "source": [
    "scored_videos_salt =  scored_videos.withColumn('salt', round((rand() * 10),0).cast(IntegerType()))\n",
    "scored_videos_salt.show()"
   ]
  },
  {
   "cell_type": "code",
   "execution_count": 37,
   "id": "b05f61b5-ed26-43a0-b0e9-e026ba74c2e6",
   "metadata": {},
   "outputs": [],
   "source": [
    "def median_udf(df: pd.DataFrame) -> pd.DataFrame:\n",
    "    return pd.DataFrame(df.groupby([\"category\"])[\"score\"].median()).reset_index() \n",
    "    "
   ]
  },
  {
   "cell_type": "code",
   "execution_count": 39,
   "id": "a708efc4-0d35-4cfe-908f-7294c0750477",
   "metadata": {},
   "outputs": [
    {
     "name": "stdout",
     "output_type": "stream",
     "text": [
      "+--------------------+------+\n",
      "|            category| score|\n",
      "+--------------------+------+\n",
      "|               Shows|  9193|\n",
      "|           Education|265824|\n",
      "|              Gaming|285004|\n",
      "|       Entertainment|422233|\n",
      "|     Travel & Events|264704|\n",
      "|Science & Technology|422791|\n",
      "|              Sports|177493|\n",
      "|       Howto & Style|304694|\n",
      "|Nonprofits & Acti...| 59973|\n",
      "|    Film & Animation|484151|\n",
      "|      People & Blogs|304870|\n",
      "|     News & Politics|188508|\n",
      "|      Pets & Animals|268432|\n",
      "|    Autos & Vehicles|239039|\n",
      "|               Music|259075|\n",
      "|              Comedy|994015|\n",
      "+--------------------+------+\n",
      "\n",
      "CPU times: user 90 ms, sys: 0 ns, total: 90 ms\n",
      "Wall time: 14 s\n"
     ]
    }
   ],
   "source": [
    "%%time\n",
    "categories_score = scored_videos_salt \\\n",
    "                .join(categories_salt,(scored_videos_salt['category_id'] == categories_salt['id']) & (scored_videos_salt['salt'] == categories_salt['salt'] ) ) \\\n",
    "                .drop(\"salt\") \\\n",
    "                .groupBy('category') \\\n",
    "                .applyInPandas(median_udf, \"category string, score int\")                \n",
    "\n",
    "categories_score.show()"
   ]
  },
  {
   "cell_type": "code",
   "execution_count": null,
   "id": "c1df7e3d-46ae-40b1-9f21-1d890979dbe7",
   "metadata": {},
   "outputs": [],
   "source": [
    "# Задание 3."
   ]
  },
  {
   "cell_type": "code",
   "execution_count": 43,
   "id": "5d325c50-31c5-4c9a-baba-4ddf8bdc6325",
   "metadata": {},
   "outputs": [
    {
     "data": {
      "text/plain": [
       "0.11648250304933754"
      ]
     },
     "execution_count": 43,
     "metadata": {},
     "output_type": "execute_result"
    }
   ],
   "source": [
    "sc = spark.sparkContext\n",
    "n = 20\n",
    "\n",
    "def udfSplitTagsUDFScalaWrapper(ipString):\n",
    "    _splitTagsUDF = sc._jvm.CustomUDFs.splitTagsUDF()\n",
    "    return Column(_splitTagsUDF.apply(_to_seq(sc, [ipString], _to_java_column)))\n",
    "\n",
    "split_tags = videos.select(\"tags\",udfSplitTagsUDFScalaWrapper(col(\"tags\")).alias(\"split_tags_scala\"))\n",
    "\n",
    "timeit.timeit('split_tags.count()', number=n, globals=globals())/n"
   ]
  },
  {
   "cell_type": "code",
   "execution_count": 44,
   "id": "d872995c-6bdf-42c0-82f2-1b87af4833ae",
   "metadata": {},
   "outputs": [
    {
     "data": {
      "text/plain": [
       "0.13988081095012603"
      ]
     },
     "execution_count": 44,
     "metadata": {},
     "output_type": "execute_result"
    }
   ],
   "source": [
    "@pandas_udf(ArrayType(StringType()))\n",
    "def split_string(column: pd.Series) -> pd.Series:\n",
    "    return column.str.split(\"|\")\n",
    "\n",
    "\n",
    "split_tags = videos.select(split_string(\"tags\").alias(\"tags\"))\n",
    "\n",
    "timeit.timeit('split_tags.count()', number=n, globals=globals())/n"
   ]
  },
  {
   "cell_type": "code",
   "execution_count": null,
   "id": "efc720ee-976b-4d07-ab69-2ad7539f5fc4",
   "metadata": {},
   "outputs": [],
   "source": [
    "# Функция на питоне проигрывает аналогичной на Скале, но разница небольшая на данном объеме. "
   ]
  },
  {
   "cell_type": "code",
   "execution_count": 53,
   "id": "1f2768a7-0321-4a53-b708-4690949d33ec",
   "metadata": {},
   "outputs": [
    {
     "name": "stdout",
     "output_type": "stream",
     "text": [
      "+---------+-----+\n",
      "|      tag|count|\n",
      "+---------+-----+\n",
      "|    funny|  722|\n",
      "|   comedy|  572|\n",
      "|     2017|  309|\n",
      "|   how to|  284|\n",
      "|     vlog|  273|\n",
      "|    humor|  258|\n",
      "|   makeup|  254|\n",
      "|    music|  250|\n",
      "| tutorial|  235|\n",
      "|     food|  224|\n",
      "|    video|  219|\n",
      "|   review|  218|\n",
      "|celebrity|  211|\n",
      "|     news|  211|\n",
      "|   beauty|  210|\n",
      "|interview|  209|\n",
      "|  science|  197|\n",
      "|      Pop|  190|\n",
      "|  trailer|  180|\n",
      "|halloween|  161|\n",
      "+---------+-----+\n",
      "only showing top 20 rows\n",
      "\n"
     ]
    }
   ],
   "source": [
    "popular_tags = (split_tags\n",
    " .select(explode(\"tags\").alias(\"tag\"))\n",
    " .where(\"tag != '[none]'\")\n",
    " .groupBy(\"tag\").count()\n",
    " .sort(col(\"count\").desc())\n",
    " )\n",
    "\n",
    "popular_tags.show()"
   ]
  },
  {
   "cell_type": "code",
   "execution_count": null,
   "id": "72671b26-7174-41f9-b16e-76001846455d",
   "metadata": {},
   "outputs": [],
   "source": [
    "# Задание 4."
   ]
  },
  {
   "cell_type": "code",
   "execution_count": 47,
   "id": "b3f9ccf6-3ea2-4800-9022-2d81f8d5beda",
   "metadata": {},
   "outputs": [
    {
     "name": "stdout",
     "output_type": "stream",
     "text": [
      "Collecting mmh3\n",
      "  Downloading mmh3-4.0.0-cp311-cp311-manylinux_2_5_x86_64.manylinux1_x86_64.manylinux_2_17_x86_64.manylinux2014_x86_64.whl (68 kB)\n",
      "\u001b[2K     \u001b[90m━━━━━━━━━━━━━━━━━━━━━━━━━━━━━━━━━━━━━━━━\u001b[0m \u001b[32m68.3/68.3 kB\u001b[0m \u001b[31m1.3 MB/s\u001b[0m eta \u001b[36m0:00:00\u001b[0ma \u001b[36m0:00:01\u001b[0m\n",
      "\u001b[?25hCollecting bitarray\n",
      "  Downloading bitarray-2.7.6-cp311-cp311-manylinux_2_17_x86_64.manylinux2014_x86_64.whl (282 kB)\n",
      "\u001b[2K     \u001b[90m━━━━━━━━━━━━━━━━━━━━━━━━━━━━━━━━━━━━━━━\u001b[0m \u001b[32m282.5/282.5 kB\u001b[0m \u001b[31m7.4 MB/s\u001b[0m eta \u001b[36m0:00:00\u001b[0ma \u001b[36m0:00:01\u001b[0m\n",
      "\u001b[?25hInstalling collected packages: mmh3, bitarray\n",
      "Successfully installed bitarray-2.7.6 mmh3-4.0.0\n"
     ]
    }
   ],
   "source": [
    "!pip install --no-cache-dir mmh3 bitarray"
   ]
  },
  {
   "cell_type": "code",
   "execution_count": 48,
   "id": "f5ff32fe-dbf9-4535-a419-32c37f72391e",
   "metadata": {},
   "outputs": [],
   "source": [
    "import math\n",
    "import mmh3\n",
    "from bitarray import bitarray\n",
    "  \n",
    "  \n",
    "class BloomFilter(object):\n",
    "  \n",
    "    '''\n",
    "    Class for Bloom filter, using murmur3 hash function\n",
    "    '''\n",
    "  \n",
    "    def __init__(self, items_count, fp_prob):\n",
    "        '''\n",
    "        items_count : int\n",
    "            Number of items expected to be stored in bloom filter\n",
    "        fp_prob : float\n",
    "            False Positive probability in decimal\n",
    "        '''\n",
    "        self.items_count = items_count\n",
    "        \n",
    "        # False possible probability in decimal\n",
    "        self.fp_prob = fp_prob\n",
    "  \n",
    "        # Size of bit array to use\n",
    "        self.size = self.get_size(items_count, fp_prob)\n",
    "  \n",
    "        # number of hash functions to use\n",
    "        self.hash_count = self.get_hash_count(self.size, items_count)\n",
    "  \n",
    "        # Bit array of given size\n",
    "        self.bit_array = bitarray(self.size)\n",
    "  \n",
    "        # initialize all bits as 0\n",
    "        self.bit_array.setall(0)\n",
    "  \n",
    "    def add(self, item):\n",
    "        '''\n",
    "        Add an item in the filter\n",
    "        '''\n",
    "        digests = []\n",
    "        for i in range(self.hash_count):\n",
    "  \n",
    "            # create digest for given item.\n",
    "            # i work as seed to mmh3.hash() function\n",
    "            # With different seed, digest created is different\n",
    "            digest = mmh3.hash(item, i) % self.size\n",
    "            digests.append(digest)\n",
    "  \n",
    "            # set the bit True in bit_array\n",
    "            self.bit_array[digest] = True\n",
    "        \n",
    "    def union(self, other):\n",
    "        \"\"\" Calculates the union of the two underlying bitarrays and returns\n",
    "        a new bloom filter object.\"\"\"\n",
    "        new_bloom = self.copy()\n",
    "        new_bloom.bit_array = new_bloom.bit_array | other.bit_array\n",
    "        return new_bloom\n",
    "  \n",
    "    def check(self, item):\n",
    "        '''\n",
    "        Check for existence of an item in filter\n",
    "        '''\n",
    "        for i in range(self.hash_count):\n",
    "            digest = mmh3.hash(item, i) % self.size\n",
    "            if self.bit_array[digest] == False:\n",
    "  \n",
    "                # if any of bit is False then,its not present\n",
    "                # in filter\n",
    "                # else there is probability that it exist\n",
    "                return False\n",
    "        return True\n",
    "    \n",
    "    def copy(self):\n",
    "        \"\"\"Return a copy of this bloom filter.\n",
    "        \"\"\"\n",
    "        new_filter = BloomFilter(self.items_count, self.fp_prob)\n",
    "        new_filter.bit_array = self.bit_array.copy()\n",
    "        return new_filter\n",
    "    \n",
    "    def set_bit_array(self, bit_array):\n",
    "        self.bit_array = bit_array\n",
    "  \n",
    "    @classmethod\n",
    "    def get_size(self, n, p):\n",
    "        '''\n",
    "        Return the size of bit array(m) to used using\n",
    "        following formula\n",
    "        m = -(n * lg(p)) / (lg(2)^2)\n",
    "        n : int\n",
    "            number of items expected to be stored in filter\n",
    "        p : float\n",
    "            False Positive probability in decimal\n",
    "        '''\n",
    "        m = -(n * math.log(p))/(math.log(2)**2)\n",
    "        return int(m)\n",
    "  \n",
    "    @classmethod\n",
    "    def get_hash_count(self, m, n):\n",
    "        '''\n",
    "        Return the hash function(k) to be used using\n",
    "        following formula\n",
    "        k = (m/n) * lg(2)\n",
    "  \n",
    "        m : int\n",
    "            size of bit array\n",
    "        n : int\n",
    "            number of items expected to be stored in filter\n",
    "        '''\n",
    "        k = (m/n) * math.log(2)\n",
    "        return int(k)"
   ]
  },
  {
   "cell_type": "code",
   "execution_count": 49,
   "id": "81244647-848b-4bc3-b617-55bebeabd289",
   "metadata": {},
   "outputs": [
    {
     "data": {
      "text/plain": [
       "48"
      ]
     },
     "execution_count": 49,
     "metadata": {},
     "output_type": "execute_result"
    }
   ],
   "source": [
    "videos_cats = (videos\n",
    " .select(\"video_id\",split_string(\"tags\").alias(\"tags\"))\n",
    " .select(\"video_id\",explode(\"tags\").alias(\"tag\"))\n",
    " .where(\"tag = 'cat'\")\n",
    ")\n",
    "\n",
    "videos_cats.count()"
   ]
  },
  {
   "cell_type": "code",
   "execution_count": 50,
   "id": "50174002-2a6d-4b90-aca7-65c56fd7c4f4",
   "metadata": {},
   "outputs": [],
   "source": [
    "# В данном случае для соединения лучше подойдет фильтр Блума, так как video_id после фильтрации по тегу cats становится высоко селективной колонкой и при поиске нужного video_id \n",
    "# будут преобладать неуспешные попытки.\n",
    "# Создаем фильтр\n",
    "\n",
    "filterSize = 31771\n",
    "prob = 0.05\n",
    "\n",
    "def fill_bloom_filter(bf, items):\n",
    "    for i in items:\n",
    "        bf.add(str(i[0]))\n",
    "    return bf\n",
    "\n",
    "bloom_filter = BloomFilter(filterSize, prob)\n",
    "\n",
    "general_bit_array = videos_cats.select(col('video_id')).rdd \\\n",
    "    .mapPartitions(lambda p: [fill_bloom_filter(BloomFilter(filterSize, prob), p).bit_array]) \\\n",
    "    .reduce(lambda a, b: a.bit_array | b.bit_array)\n",
    "\n",
    "bloom_filter.set_bit_array(general_bit_array)\n",
    "\n",
    "maybe_in_bf = udf(lambda video_id: bloom_filter.check(str(video_id)))\n"
   ]
  },
  {
   "cell_type": "code",
   "execution_count": null,
   "id": "12ab4cd3-d8fb-487d-885e-676eef9c5266",
   "metadata": {},
   "outputs": [],
   "source": [
    "top_comments_cat = (comments\n",
    "    .filter(maybe_in_bf(col('video_id')) == True)\n",
    "    .join(videos_cats, videos_cats['video_id'] == comments['video_id'])\n",
    "    .select(comments[\"comment_text\"],comments[\"likes\"])\n",
    "    .groupBy(\"comment_text\").count()\n",
    "    .sort(col(\"count\").desc())\n",
    ")\n"
   ]
  },
  {
   "cell_type": "code",
   "execution_count": 52,
   "id": "c068084f-e629-44cf-9d4d-1c943e3844e1",
   "metadata": {},
   "outputs": [
    {
     "name": "stdout",
     "output_type": "stream",
     "text": [
      "+--------------------+-----+\n",
      "|        comment_text|count|\n",
      "+--------------------+-----+\n",
      "|SIMON...PLEASE PL...|   25|\n",
      "|During the winter...|   25|\n",
      "|Ah! My cat loves ...|   25|\n",
      "|My 1 year old bla...|   25|\n",
      "|No need to buy to...|   25|\n",
      "+--------------------+-----+\n",
      "only showing top 5 rows\n",
      "\n"
     ]
    }
   ],
   "source": [
    "top_comments_cat.show(5)"
   ]
  },
  {
   "cell_type": "code",
   "execution_count": null,
   "id": "665b1a12-6d05-43dc-8cef-a00a5d4a7c4f",
   "metadata": {},
   "outputs": [],
   "source": []
  }
 ],
 "metadata": {
  "kernelspec": {
   "display_name": "Python 3 (ipykernel)",
   "language": "python",
   "name": "python3"
  },
  "language_info": {
   "codemirror_mode": {
    "name": "ipython",
    "version": 3
   },
   "file_extension": ".py",
   "mimetype": "text/x-python",
   "name": "python",
   "nbconvert_exporter": "python",
   "pygments_lexer": "ipython3",
   "version": "3.11.3"
  }
 },
 "nbformat": 4,
 "nbformat_minor": 5
}
